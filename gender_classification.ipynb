{
 "cells": [
  {
   "cell_type": "code",
   "execution_count": 1,
   "metadata": {},
   "outputs": [],
   "source": [
    "import numpy as np\n",
    "import pandas as pd\n",
    "import matplotlib.pyplot as plt\n",
    "import os\n",
    "import itertools\n",
    "from pathlib import Path\n",
    "from PIL import Image\n",
    "from sklearn.metrics import confusion_matrix\n",
    "import tensorflow as tf\n",
    "from tensorflow.keras.preprocessing.image import load_img\n",
    "from sklearn.model_selection import train_test_split\n",
    "from tensorflow.keras.initializers import random_uniform, glorot_uniform, constant, identity\n",
    "from tensorflow.keras.layers import Dropout, Input, Add, Dense, Activation, BatchNormalization, Flatten, Conv2D, MaxPooling2D, GlobalMaxPooling2D\n",
    "from tensorflow.keras.models import Model, load_model"
   ]
  },
  {
   "cell_type": "code",
   "execution_count": 2,
   "metadata": {},
   "outputs": [
    {
     "name": "stdout",
     "output_type": "stream",
     "text": [
      "Current working directory: d:\\Học tập 3\\Digital_Processing\\Project2\\utkcropped\n"
     ]
    }
   ],
   "source": [
    "# return the current working directory\n",
    "cwd = os.getcwd() \n",
    "print(\"Current working directory:\", cwd)"
   ]
  },
  {
   "cell_type": "code",
   "execution_count": 3,
   "metadata": {},
   "outputs": [],
   "source": [
    "age = []\n",
    "gender = [] \n",
    "images_path_names = []\n",
    " \n",
    "# add data into 3 lists above to prepare data for training\n",
    "# take label from file name with format age_gender_datatime\n",
    "for filename in os.listdir(cwd):\n",
    "    image_path = os.path.join(cwd, filename)\n",
    "    try:\n",
    "        elements=  filename.split('_')\n",
    "        age.append(int(elements[0]))\n",
    "        gender.append(int(elements[1]))\n",
    "        images_path_names.append(image_path)\n",
    "    except:\n",
    "        pass"
   ]
  },
  {
   "cell_type": "code",
   "execution_count": 4,
   "metadata": {},
   "outputs": [
    {
     "data": {
      "text/html": [
       "<div>\n",
       "<style scoped>\n",
       "    .dataframe tbody tr th:only-of-type {\n",
       "        vertical-align: middle;\n",
       "    }\n",
       "\n",
       "    .dataframe tbody tr th {\n",
       "        vertical-align: top;\n",
       "    }\n",
       "\n",
       "    .dataframe thead th {\n",
       "        text-align: right;\n",
       "    }\n",
       "</style>\n",
       "<table border=\"1\" class=\"dataframe\">\n",
       "  <thead>\n",
       "    <tr style=\"text-align: right;\">\n",
       "      <th></th>\n",
       "      <th>dir</th>\n",
       "      <th>age</th>\n",
       "      <th>gender</th>\n",
       "    </tr>\n",
       "  </thead>\n",
       "  <tbody>\n",
       "    <tr>\n",
       "      <th>0</th>\n",
       "      <td>d:\\Học tập 3\\Digital_Processing\\Project2\\utkcr...</td>\n",
       "      <td>100</td>\n",
       "      <td>0</td>\n",
       "    </tr>\n",
       "    <tr>\n",
       "      <th>1</th>\n",
       "      <td>d:\\Học tập 3\\Digital_Processing\\Project2\\utkcr...</td>\n",
       "      <td>100</td>\n",
       "      <td>0</td>\n",
       "    </tr>\n",
       "    <tr>\n",
       "      <th>2</th>\n",
       "      <td>d:\\Học tập 3\\Digital_Processing\\Project2\\utkcr...</td>\n",
       "      <td>100</td>\n",
       "      <td>1</td>\n",
       "    </tr>\n",
       "    <tr>\n",
       "      <th>3</th>\n",
       "      <td>d:\\Học tập 3\\Digital_Processing\\Project2\\utkcr...</td>\n",
       "      <td>100</td>\n",
       "      <td>1</td>\n",
       "    </tr>\n",
       "    <tr>\n",
       "      <th>4</th>\n",
       "      <td>d:\\Học tập 3\\Digital_Processing\\Project2\\utkcr...</td>\n",
       "      <td>100</td>\n",
       "      <td>1</td>\n",
       "    </tr>\n",
       "  </tbody>\n",
       "</table>\n",
       "</div>"
      ],
      "text/plain": [
       "                                                 dir  age  gender\n",
       "0  d:\\Học tập 3\\Digital_Processing\\Project2\\utkcr...  100       0\n",
       "1  d:\\Học tập 3\\Digital_Processing\\Project2\\utkcr...  100       0\n",
       "2  d:\\Học tập 3\\Digital_Processing\\Project2\\utkcr...  100       1\n",
       "3  d:\\Học tập 3\\Digital_Processing\\Project2\\utkcr...  100       1\n",
       "4  d:\\Học tập 3\\Digital_Processing\\Project2\\utkcr...  100       1"
      ]
     },
     "execution_count": 4,
     "metadata": {},
     "output_type": "execute_result"
    }
   ],
   "source": [
    "# create dataframe\n",
    "df = pd.DataFrame({\"dir\":images_path_names,\"age\":age,\"gender\":gender})\n",
    "df.head()"
   ]
  },
  {
   "cell_type": "code",
   "execution_count": 5,
   "metadata": {},
   "outputs": [],
   "source": [
    "gender_dict = {0:\"Male\",1:\"Female\"}"
   ]
  },
  {
   "cell_type": "code",
   "execution_count": 6,
   "metadata": {},
   "outputs": [
    {
     "name": "stdout",
     "output_type": "stream",
     "text": [
      "dir        object\n",
      "age       float32\n",
      "gender      int32\n",
      "dtype: object\n"
     ]
    }
   ],
   "source": [
    "df = df.astype({'age':'float32', 'gender': 'int32'})\n",
    "print(df.dtypes)"
   ]
  },
  {
   "cell_type": "code",
   "execution_count": 7,
   "metadata": {},
   "outputs": [],
   "source": [
    "# divide train, test data\n",
    "train, test = train_test_split(df, test_size=0.85, random_state=100)"
   ]
  },
  {
   "cell_type": "code",
   "execution_count": 8,
   "metadata": {},
   "outputs": [
    {
     "name": "stderr",
     "output_type": "stream",
     "text": [
      "c:\\Users\\PC\\AppData\\Local\\Programs\\Python\\Python39\\lib\\site-packages\\keras\\utils\\image_utils.py:382: UserWarning: grayscale is deprecated. Please use color_mode = \"grayscale\"\n",
      "  warnings.warn('grayscale is deprecated. Please use '\n"
     ]
    }
   ],
   "source": [
    "# preprocess image for train\n",
    "x_train = []\n",
    "for file in train.dir:\n",
    "    img = load_img(file, grayscale=True)\n",
    "    img = img.resize((128,128), Image.ANTIALIAS)\n",
    "    img = np.array(img)\n",
    "    x_train.append(img)\n",
    "\n",
    "x_train = np.array(x_train)\n",
    "\n",
    "x_train = x_train.reshape(len(x_train), 128,128,1)"
   ]
  },
  {
   "cell_type": "code",
   "execution_count": 10,
   "metadata": {},
   "outputs": [
    {
     "data": {
      "text/plain": [
       "0.0"
      ]
     },
     "execution_count": 10,
     "metadata": {},
     "output_type": "execute_result"
    }
   ],
   "source": [
    "tf.config.experimental.get_memory_info('GPU:0')['current'] / 10**9"
   ]
  },
  {
   "cell_type": "code",
   "execution_count": 11,
   "metadata": {},
   "outputs": [],
   "source": [
    "# preprocess data for test\n",
    "x_test = []\n",
    "for file in test.dir:\n",
    "    img = load_img(file, grayscale=True)\n",
    "    img = img.resize((128,128), Image.ANTIALIAS)\n",
    "    img = np.array(img)\n",
    "    x_test.append(img)\n",
    "\n",
    "x_test = np.array(x_test[:1000])\n",
    "\n",
    "x_test = x_test.reshape(len(x_test), 128,128,1)\n",
    "x_test = x_test/255"
   ]
  },
  {
   "cell_type": "code",
   "execution_count": 12,
   "metadata": {},
   "outputs": [
    {
     "data": {
      "text/plain": [
       "0.0"
      ]
     },
     "execution_count": 12,
     "metadata": {},
     "output_type": "execute_result"
    }
   ],
   "source": [
    "tf.config.experimental.get_memory_info('GPU:0')['current'] / 10**9"
   ]
  },
  {
   "cell_type": "code",
   "execution_count": 9,
   "metadata": {},
   "outputs": [],
   "source": [
    "# create data, label for train\n",
    "x_train = x_train/255\n",
    "y_gender = np.array(train.gender)"
   ]
  },
  {
   "cell_type": "code",
   "execution_count": 14,
   "metadata": {},
   "outputs": [
    {
     "data": {
      "text/plain": [
       "0.0"
      ]
     },
     "execution_count": 14,
     "metadata": {},
     "output_type": "execute_result"
    }
   ],
   "source": [
    "tf.config.experimental.get_memory_info('GPU:0')['current'] / 10**9"
   ]
  },
  {
   "cell_type": "code",
   "execution_count": 10,
   "metadata": {},
   "outputs": [],
   "source": [
    "# CNN \n",
    "input_size = (128,128,1)\n",
    "inputs = Input((input_size))\n",
    "\n",
    "## convolution layer with kernel size = 3\n",
    "X = Conv2D(64, (3, 3), activation='relu', kernel_initializer = glorot_uniform(seed=0))(inputs)\n",
    "X = BatchNormalization(axis = 3)(X)\n",
    "X = MaxPooling2D((3, 3))(X)\n",
    "\n",
    "X = Conv2D(128, (3, 3), activation='relu')(X)\n",
    "X = MaxPooling2D((2, 2), strides=(2, 2))(X)\n",
    "\n",
    "X = Conv2D(256, (3, 3), activation='relu')(X)\n",
    "X = MaxPooling2D((2, 2))(X)\n",
    "\n",
    "X = Flatten()(X)\n",
    "\n",
    "# fully connected layer with one dense 256 node and one dense 1 node to regression output male or female\n",
    "dense_1 = Dense(256, activation='relu')(X)\n",
    "dropout_1 = Dropout(0.4)(dense_1)\n",
    "\n",
    "output_1 = Dense(1,activation='sigmoid', name='gender_output')(dropout_1)\n",
    "\n",
    "model = Model(inputs=[inputs], outputs=[output_1])"
   ]
  },
  {
   "cell_type": "code",
   "execution_count": 18,
   "metadata": {},
   "outputs": [
    {
     "name": "stdout",
     "output_type": "stream",
     "text": [
      "Model: \"model\"\n",
      "_________________________________________________________________\n",
      " Layer (type)                Output Shape              Param #   \n",
      "=================================================================\n",
      " input_1 (InputLayer)        [(None, 128, 128, 1)]     0         \n",
      "                                                                 \n",
      " conv2d (Conv2D)             (None, 126, 126, 64)      640       \n",
      "                                                                 \n",
      " batch_normalization (BatchN  (None, 126, 126, 64)     256       \n",
      " ormalization)                                                   \n",
      "                                                                 \n",
      " max_pooling2d (MaxPooling2D  (None, 42, 42, 64)       0         \n",
      " )                                                               \n",
      "                                                                 \n",
      " conv2d_1 (Conv2D)           (None, 40, 40, 128)       73856     \n",
      "                                                                 \n",
      " max_pooling2d_1 (MaxPooling  (None, 20, 20, 128)      0         \n",
      " 2D)                                                             \n",
      "                                                                 \n",
      " conv2d_2 (Conv2D)           (None, 18, 18, 256)       295168    \n",
      "                                                                 \n",
      " max_pooling2d_2 (MaxPooling  (None, 9, 9, 256)        0         \n",
      " 2D)                                                             \n",
      "                                                                 \n",
      " flatten (Flatten)           (None, 20736)             0         \n",
      "                                                                 \n",
      " dense (Dense)               (None, 256)               5308672   \n",
      "                                                                 \n",
      " dropout (Dropout)           (None, 256)               0         \n",
      "                                                                 \n",
      " gender_output (Dense)       (None, 1)                 257       \n",
      "                                                                 \n",
      "=================================================================\n",
      "Total params: 5,678,849\n",
      "Trainable params: 5,678,721\n",
      "Non-trainable params: 128\n",
      "_________________________________________________________________\n"
     ]
    }
   ],
   "source": [
    "model.summary()"
   ]
  },
  {
   "cell_type": "code",
   "execution_count": 11,
   "metadata": {},
   "outputs": [],
   "source": [
    "model.compile(loss='binary_crossentropy', optimizer='adam', metrics=['accuracy'])"
   ]
  },
  {
   "cell_type": "code",
   "execution_count": 12,
   "metadata": {},
   "outputs": [
    {
     "data": {
      "text/plain": [
       "0.022721536"
      ]
     },
     "execution_count": 12,
     "metadata": {},
     "output_type": "execute_result"
    }
   ],
   "source": [
    "tf.config.experimental.get_memory_info('GPU:0')['current'] / 10**9"
   ]
  },
  {
   "cell_type": "code",
   "execution_count": 13,
   "metadata": {},
   "outputs": [
    {
     "name": "stdout",
     "output_type": "stream",
     "text": [
      "Epoch 1/20\n",
      "320/320 [==============================] - 20s 31ms/step - loss: 0.5877 - accuracy: 0.7091 - val_loss: 0.6022 - val_accuracy: 0.7444\n",
      "Epoch 2/20\n",
      "320/320 [==============================] - 9s 29ms/step - loss: 0.4436 - accuracy: 0.7956 - val_loss: 0.4613 - val_accuracy: 0.7612\n",
      "Epoch 3/20\n",
      "320/320 [==============================] - 9s 29ms/step - loss: 0.3732 - accuracy: 0.8297 - val_loss: 0.4704 - val_accuracy: 0.7781\n",
      "Epoch 4/20\n",
      "320/320 [==============================] - 9s 29ms/step - loss: 0.3418 - accuracy: 0.8400 - val_loss: 0.4426 - val_accuracy: 0.7893\n",
      "Epoch 5/20\n",
      "320/320 [==============================] - 9s 29ms/step - loss: 0.3130 - accuracy: 0.8603 - val_loss: 0.4739 - val_accuracy: 0.7837\n",
      "Epoch 6/20\n",
      "320/320 [==============================] - 9s 29ms/step - loss: 0.2888 - accuracy: 0.8653 - val_loss: 0.4661 - val_accuracy: 0.8146\n",
      "Epoch 7/20\n",
      "320/320 [==============================] - 9s 28ms/step - loss: 0.2797 - accuracy: 0.8741 - val_loss: 0.5059 - val_accuracy: 0.7978\n",
      "Epoch 8/20\n",
      "320/320 [==============================] - 9s 28ms/step - loss: 0.2278 - accuracy: 0.8938 - val_loss: 0.5545 - val_accuracy: 0.8090\n",
      "Epoch 9/20\n",
      "320/320 [==============================] - 9s 28ms/step - loss: 0.2118 - accuracy: 0.9066 - val_loss: 0.5040 - val_accuracy: 0.7809\n",
      "Epoch 10/20\n",
      "320/320 [==============================] - 9s 28ms/step - loss: 0.1918 - accuracy: 0.9119 - val_loss: 0.5004 - val_accuracy: 0.7949\n",
      "Epoch 11/20\n",
      "320/320 [==============================] - 10s 30ms/step - loss: 0.1927 - accuracy: 0.9178 - val_loss: 0.5748 - val_accuracy: 0.8118\n",
      "Epoch 12/20\n",
      "320/320 [==============================] - 10s 32ms/step - loss: 0.1556 - accuracy: 0.9281 - val_loss: 0.6421 - val_accuracy: 0.8062\n",
      "Epoch 13/20\n",
      "320/320 [==============================] - 10s 31ms/step - loss: 0.1362 - accuracy: 0.9400 - val_loss: 0.6353 - val_accuracy: 0.8062\n",
      "Epoch 14/20\n",
      "320/320 [==============================] - 11s 34ms/step - loss: 0.1209 - accuracy: 0.9472 - val_loss: 0.8473 - val_accuracy: 0.8062\n",
      "Epoch 15/20\n",
      "320/320 [==============================] - 11s 34ms/step - loss: 0.1322 - accuracy: 0.9434 - val_loss: 0.7984 - val_accuracy: 0.8118\n",
      "Epoch 16/20\n",
      "320/320 [==============================] - 10s 33ms/step - loss: 0.1320 - accuracy: 0.9497 - val_loss: 0.6981 - val_accuracy: 0.8258\n",
      "Epoch 17/20\n",
      "320/320 [==============================] - 11s 33ms/step - loss: 0.1036 - accuracy: 0.9569 - val_loss: 0.6601 - val_accuracy: 0.8455\n",
      "Epoch 18/20\n",
      "320/320 [==============================] - 10s 32ms/step - loss: 0.0879 - accuracy: 0.9656 - val_loss: 0.9542 - val_accuracy: 0.8118\n",
      "Epoch 19/20\n",
      "320/320 [==============================] - 9s 28ms/step - loss: 0.0735 - accuracy: 0.9697 - val_loss: 1.0858 - val_accuracy: 0.8062\n",
      "Epoch 20/20\n",
      "320/320 [==============================] - 11s 33ms/step - loss: 0.0821 - accuracy: 0.9653 - val_loss: 0.8932 - val_accuracy: 0.8315\n"
     ]
    }
   ],
   "source": [
    "# training model\n",
    "model_history = model.fit(x=x_train, y=y_gender, batch_size = 10, epochs=20, validation_split= 0.1)"
   ]
  },
  {
   "cell_type": "code",
   "execution_count": 15,
   "metadata": {},
   "outputs": [
    {
     "data": {
      "image/png": "[encoded data removed]",
      "text/plain": [
       "<Figure size 432x288 with 1 Axes>"
      ]
     },
     "metadata": {
      "needs_background": "light"
     },
     "output_type": "display_data"
    }
   ],
   "source": [
    "# visualize loss during 30 epochs\n",
    "plt.plot(model_history.history['loss'])\n",
    "plt.plot(model_history.history['val_loss'])\n",
    "plt.title('Gender loss')\n",
    "plt.ylabel('loss')\n",
    "plt.xlabel('epoch')\n",
    "plt.legend(['train', 'validation'], loc='upper left')\n",
    "plt.show()"
   ]
  },
  {
   "cell_type": "code",
   "execution_count": 16,
   "metadata": {},
   "outputs": [
    {
     "data": {
      "image/png": "[encoded data removed]",
      "text/plain": [
       "<Figure size 432x288 with 1 Axes>"
      ]
     },
     "metadata": {
      "needs_background": "light"
     },
     "output_type": "display_data"
    }
   ],
   "source": [
    "# visualize accuracy during 30 epochs\n",
    "plt.plot(model_history.history['accuracy'])\n",
    "plt.plot(model_history.history['val_accuracy'])\n",
    "plt.title('Gender accuracy')\n",
    "plt.ylabel('accuracy')\n",
    "plt.xlabel('epoch')\n",
    "plt.legend(['train', 'validation'], loc='upper left')\n",
    "plt.show()"
   ]
  },
  {
   "cell_type": "code",
   "execution_count": 22,
   "metadata": {},
   "outputs": [],
   "source": [
    "# defining a function to plot the confusion matrix in a grid for easier visualization\n",
    "\"\"\"\n",
    "this function prints and plots the confusion matrix\n",
    "normalization can be applied by setting normalize=True\n",
    "\"\"\"\n",
    "def plot_confusion_matrix(cm, classes, normalize=False, title='Confusion Matrix', export_as='confusion_matrix', cmap=plt.cm.Blues):\n",
    "    if normalize:\n",
    "        cm = cm.astype('float') / cm.sum(axis=1)[:, np.newaxis]\n",
    "        print(\"Normalized confusion matrix\")\n",
    "    else:\n",
    "        print('Confusion matrix, without normalization')\n",
    "\n",
    "    plt.imshow(cm, interpolation='nearest', cmap=cmap)\n",
    "    plt.title(title, fontsize=16)\n",
    "    plt.colorbar()\n",
    "    tick_marks = np.arange(len(classes))\n",
    "    plt.xticks(tick_marks, classes)\n",
    "    plt.yticks(tick_marks, classes)\n",
    "\n",
    "    fmt = '.2f' if normalize else 'd'\n",
    "    thresh = cm.max() / 2.\n",
    "    for i, j in itertools.product(range(cm.shape[0]), range(cm.shape[1])):\n",
    "        plt.text(j, i, format(cm[i, j], fmt), horizontalalignment=\"center\", color=\"white\" if cm[i, j] > thresh else \"black\")\n",
    "\n",
    "    plt.tight_layout()\n",
    "    plt.ylabel('True labels', fontsize=14)\n",
    "    plt.xlabel('Predicted labels', fontsize=14)\n",
    "\n",
    "    # exporting plot image in PNG format.\n",
    "    plt.savefig(f'd:/Học tập 3/Digital_Processing/Project2/utkcropped/output/cnn_logs/{export_as}.png', bbox_inches='tight');"
   ]
  },
  {
   "cell_type": "code",
   "execution_count": 26,
   "metadata": {},
   "outputs": [],
   "source": [
    "model = load_model(\"d:/Học tập 3/Digital_Processing/Project2/utkcropped/output/cnn_logs/model_20_epochs_gender_98.h5\")"
   ]
  },
  {
   "cell_type": "code",
   "execution_count": 27,
   "metadata": {},
   "outputs": [
    {
     "name": "stdout",
     "output_type": "stream",
     "text": [
      "32/32 [==============================] - 1s 31ms/step\n"
     ]
    },
    {
     "data": {
      "text/plain": [
       "array([[525,   1],\n",
       "       [378,  96]], dtype=int64)"
      ]
     },
     "execution_count": 27,
     "metadata": {},
     "output_type": "execute_result"
    }
   ],
   "source": [
    "# calculate confusion matrix after 30 epochs\n",
    "maxt1 = confusion_matrix(test.gender.iloc[:1000],model.predict(x_test)[:,0].astype(\"int32\"))\n",
    "maxt1"
   ]
  },
  {
   "cell_type": "code",
   "execution_count": 28,
   "metadata": {},
   "outputs": [
    {
     "name": "stdout",
     "output_type": "stream",
     "text": [
      "Normalized confusion matrix\n"
     ]
    },
    {
     "data": {
      "image/png": "[encoded data removed]",
      "text/plain": [
       "<Figure size 1152x576 with 2 Axes>"
      ]
     },
     "metadata": {
      "needs_background": "light"
     },
     "output_type": "display_data"
    }
   ],
   "source": [
    "gender_classes = [\"Male\",\"Female\"]\n",
    "plt.figure(figsize=(16,8))\n",
    "plot_confusion_matrix(maxt1, gender_classes, normalize=True,\n",
    "                      title=\"Confusion Matrix based on predictions from CNN model\",\n",
    "                      export_as=\"confusion_matrix_after_30_epochs\"\n",
    "                     )\n",
    "\n",
    "plt.show()"
   ]
  },
  {
   "cell_type": "code",
   "execution_count": 14,
   "metadata": {},
   "outputs": [],
   "source": [
    "# save parameter after training 30 epochs\n",
    "model.save(\"d:/Học tập 3/Digital_Processing/Project2/utkcropped/output/cnn_logs/model_20_epochs_gender.h5\", save_format='h5')"
   ]
  }
 ],
 "metadata": {
  "kernelspec": {
   "display_name": "Python 3",
   "language": "python",
   "name": "python3"
  },
  "language_info": {
   "codemirror_mode": {
    "name": "ipython",
    "version": 3
   },
   "file_extension": ".py",
   "mimetype": "text/x-python",
   "name": "python",
   "nbconvert_exporter": "python",
   "pygments_lexer": "ipython3",
   "version": "3.9.7 (tags/v3.9.7:1016ef3, Aug 30 2021, 20:19:38) [MSC v.1929 64 bit (AMD64)]"
  },
  "orig_nbformat": 4,
  "vscode": {
   "interpreter": {
    "hash": "f6c8f846148a3e4d140e6ddf63c190cff559dcf260a4a21539f0978f2b58638c"
   }
  }
 },
 "nbformat": 4,
 "nbformat_minor": 2
}
